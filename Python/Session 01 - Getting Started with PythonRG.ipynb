{
 "cells": [
  {
   "cell_type": "markdown",
   "metadata": {},
   "source": [
    "# Session 1: Getting Started with Python\n",
    "\n",
    "## Introduction\n",
    "JupyterLab is a web-based interactive development environment for Jupyter notebooks, code, and data. It offers a flexible interface for working with notebooks, scripts, and data files. This tutorial will guide you through launching the JupyterLab server, creating Python scripts and notebooks, and understanding the differences between them. Additionally, you will learn how to create and run Markdown and Python cells in a Jupyter notebook.\n",
    "\n",
    "### Objectives\n",
    "- Understand the relationship between Anaconda, JupyterLab, Jupyter notebook and Python\n",
    "- Launch and shutdown the JupyterLab server.\n",
    "- Differentiate between a Python script and a Jupyter notebook.\n",
    "- Create and run Markdown and Python cells in a Jupyter notebook.\n",
    "\n",
    "\n",
    "### Estimated Time: 1.5 hours\n"
   ]
  },
  {
   "cell_type": "markdown",
   "metadata": {},
   "source": [
    "## Part 1: Launching and Shutting Down JupyterLab Server (15 minutes)\n",
    "\n",
    "### Step 1: Launch the JupyterLab Server\n",
    "\n",
    "#### Open your Anaconda Browser and click Launch for JupyterLab\n",
    " This command will start the JupyterLab server and open it in your default web browser.\n"
   ]
  },
  {
   "cell_type": "markdown",
   "metadata": {},
   "source": [
    "### Step 2: Shutting Down the JupyterLab Server\n",
    "\n",
    "#### Shutdown from the browser:\n",
    "- In the JupyterLab interface, go to the File menu and select \"Shut Down\".\n",
    "- Alternatively, you can close the browser tab.\n",
    "\n",
    "\n",
    "\n"
   ]
  },
  {
   "cell_type": "markdown",
   "metadata": {},
   "source": [
    "### Practice Problem 1: Launch and Shut Down JupyterLab\n",
    "\n",
    "1. Launch the JupyterLab server from Anaconda.\n",
    "2. Shut down the JupyterLab server using the browser interface.\n"
   ]
  },
  {
   "cell_type": "markdown",
   "metadata": {},
   "source": [
    "## Part 2: Creating a Jupyter Notebook (20 minutes)\n",
    "\n",
    "### Step 1: Create a Jupyter Notebook\n",
    "1. In the JupyterLab interface, click on the \"File\" menu.\n",
    "2. Select \"New\" and then \"Notebook\".\n",
    "3. Choose a kernel (select \"Python 3\" if prompted).\n",
    "\n",
    "### Understanding the Difference Between a Python Script and a Jupyter Notebook\n",
    "#### Python Script (.py):\n",
    "- A plain text file containing Python code.\n",
    "- Executed from the command line or within an Integrated Development Environment (IDE).\n",
    "- Linear and non-interactive.\n",
    "\n",
    "#### Jupyter Notebook (.ipynb):\n",
    "- A web-based interactive document.\n",
    "- Can contain both code and rich text elements (Markdown, HTML).\n",
    "- Code is executed in cells, allowing for interactive and incremental development.\n"
   ]
  },
  {
   "cell_type": "markdown",
   "metadata": {},
   "source": [
    "### Practice Problem 2: Create a Jupyter Notebook\n",
    "\n",
    "1. Create a new Jupyter notebook named `example_notebook.ipynb`.\n"
   ]
  },
  {
   "cell_type": "markdown",
   "metadata": {},
   "source": [
    "## Part 3: Working with Markdown and Python Cells in Jupyter Notebooks (40 minutes)\n",
    "\n",
    "### Step 1: Create Markdown Cells\n",
    "1. Click the + button in the toolbar to add a new cell.\n",
    "2. Change the cell type to Markdown by selecting \"Markdown\" from the dropdown menu or pressing M while the cell is selected.\n",
    "3. Write Markdown:\n",
    "   - Use Markdown syntax to format text. For example:\n"
   ]
  },
  {
   "cell_type": "markdown",
   "metadata": {},
   "source": [
    "# This is a heading\n",
    "\n",
    "**Bold text**\n",
    "\n",
    "*Italic text*\n",
    "\n",
    "- Bullet item"
   ]
  },
  {
   "cell_type": "markdown",
   "metadata": {},
   "source": [
    "4. Run the cell by pressing Shift+Enter.\n"
   ]
  },
  {
   "cell_type": "markdown",
   "metadata": {},
   "source": [
    "### Example 1: Creating and Running Markdown Cells\n"
   ]
  },
  {
   "cell_type": "markdown",
   "metadata": {},
   "source": [
    "# Welcome to Jupyter notebook\n",
    "\n",
    "This is a **Markdown** cell.\n"
   ]
  },
  {
   "cell_type": "markdown",
   "metadata": {},
   "source": [
    "### Step 2: Create and Run Python Cells\n",
    "1. Click the + button to add a new cell.\n",
    "2. Ensure the cell type is set to \"Code\" (default).\n",
    "3. Write Python code:\n",
    "   - Write your Python code in the cell.\n",
    "4. Run the cell by pressing Shift+Enter.\n"
   ]
  },
  {
   "cell_type": "code",
   "execution_count": null,
   "metadata": {},
   "outputs": [],
   "source": []
  },
  {
   "cell_type": "markdown",
   "metadata": {},
   "source": [
    "### Example 2: Creating and Running Python Cells\n"
   ]
  },
  {
   "cell_type": "markdown",
   "metadata": {},
   "source": []
  },
  {
   "cell_type": "code",
   "execution_count": 1,
   "metadata": {},
   "outputs": [
    {
     "name": "stdout",
     "output_type": "stream",
     "text": [
      "Jupyter notebook\n"
     ]
    }
   ],
   "source": [
    "print('Jupyter notebook')"
   ]
  },
  {
   "cell_type": "markdown",
   "metadata": {},
   "source": [
    "### Practice Problem 3: Create Markdown and Python Cells\n",
    "\n",
    "1. Create a Markdown cell with a heading \"Introduction\" and a short paragraph about your interest in Python.\n",
    "2. Create a Python cell that prints your name and your favorite number.\n"
   ]
  },
  {
   "cell_type": "markdown",
   "metadata": {},
   "source": [
    "### Step 3: Combining Markdown and Python Cells\n",
    "Create a Jupyter notebook that alternates between Markdown and Python cells to create a readable and executable document.\n"
   ]
  },
  {
   "cell_type": "markdown",
   "metadata": {},
   "source": [
    "### Practice Problem 4: Create a Notebook with Markdown and Python Cells\n",
    "\n",
    "1. Create a Markdown cell with a heading \"Simple Calculation\".\n",
    "2. Create a Python cell that performs a calculation (e.g., 2 + 2).\n",
    "3. Create a Markdown cell with a heading \"Result\".\n",
    "4. Create a Python cell that prints the result of the calculation.\n"
   ]
  },
  {
   "cell_type": "markdown",
   "metadata": {},
   "source": [
    "#### Solution:\n"
   ]
  },
  {
   "cell_type": "markdown",
   "metadata": {},
   "source": [
    "\n"
   ]
  },
  {
   "cell_type": "code",
   "execution_count": null,
   "metadata": {},
   "outputs": [],
   "source": []
  },
  {
   "cell_type": "markdown",
   "metadata": {},
   "source": []
  },
  {
   "cell_type": "code",
   "execution_count": null,
   "metadata": {},
   "outputs": [],
   "source": []
  },
  {
   "cell_type": "markdown",
   "metadata": {},
   "source": [
    "## Conclusion\n",
    "In this tutorial, you have learned how to:\n",
    "- Launch and shut down the JupyterLab server.\n",
    "- Create Python scripts and Jupyter notebooks.\n",
    "- Understand the differences between Python scripts and Jupyter notebooks.\n",
    "- Create and run Markdown and Python cells in a Jupyter notebook.\n"
   ]
  },
  {
   "cell_type": "markdown",
   "metadata": {},
   "source": []
  }
 ],
 "metadata": {
  "kernelspec": {
   "display_name": "Python [conda env:base] *",
   "language": "python",
   "name": "conda-base-py"
  },
  "language_info": {
   "codemirror_mode": {
    "name": "ipython",
    "version": 3
   },
   "file_extension": ".py",
   "mimetype": "text/x-python",
   "name": "python",
   "nbconvert_exporter": "python",
   "pygments_lexer": "ipython3",
   "version": "3.12.7"
  }
 },
 "nbformat": 4,
 "nbformat_minor": 4
}
